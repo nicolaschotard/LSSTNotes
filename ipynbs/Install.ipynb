{
 "cells": [
  {
   "cell_type": "markdown",
   "metadata": {},
   "source": [
    "# Packages install\n",
    "\n",
    "## Install an alternate version of meas_astrom\n",
    "\n",
    "Clone the repository\n",
    "\n",
    "        git clone https://github.com/lsst/meas_astrom.git\n",
    "\n",
    "Change branch if needed \n",
    "\n",
    "        cd meas_astrom\n",
    "        git checkout tickets/DM-6525\n",
    "        \n",
    "Install and set it up correctly\n",
    "\n",
    "        setup -k -r .\n",
    "        scons opt=3\n",
    "        eups declare -r . -t your_login_name\n",
    "        setup meas_astrom -t your_login_name\n",
    "        \n"
   ]
  }
 ],
 "metadata": {
  "kernelspec": {
   "display_name": "Python 2",
   "language": "python",
   "name": "python2"
  },
  "language_info": {
   "codemirror_mode": {
    "name": "ipython",
    "version": 2
   },
   "file_extension": ".py",
   "mimetype": "text/x-python",
   "name": "python",
   "nbconvert_exporter": "python",
   "pygments_lexer": "ipython2",
   "version": "2.7.11"
  }
 },
 "nbformat": 4,
 "nbformat_minor": 0
}
