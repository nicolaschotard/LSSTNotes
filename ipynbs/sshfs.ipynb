{
 "cells": [
  {
   "cell_type": "markdown",
   "metadata": {},
   "source": [
    "# Mount sps or afs (or any other disks)"
   ]
  },
  {
   "cell_type": "markdown",
   "metadata": {},
   "source": [
    "## Install sshfs\n",
    "\n",
    "Using apt-get, or yum, or dnf, you must install sshfs and fuse-sshfs.\n",
    "\n",
    "## Create directories\n",
    "\n",
    "Create an empty directory in your home (or anywhere with the appropriate rights\n",
    "\n",
    "        mkdir ~/sps\n",
    "        \n",
    "Then you have to create a symbolic link in the root diretory pointing to the previoulsy create directory. You will then be able to use /sps or any other absolute path that you had at CC on you personnal computer. \n",
    "\n",
    "        cd /\n",
    "        ln -s /home/yourname/sps sps\n",
    "     \n",
    "## Mount/unmount the disk\n",
    "\n",
    "You are now ready to work on your computer with your own soft bu with a full access to the CC disks. To do so, mount /sps (or afs) the following way:\n",
    "\n",
    "        sshfs yourname@ccage.in2p3.fr:/sps ~/sps\n",
    "        \n",
    "Check that the disk is mounted\n",
    "\n",
    "        ls /sps\n",
    "        \n",
    "This should give you the same output as if you were at CC. To unmount the disk, use\n",
    "\n",
    "        fusermount -u ~/sps\n",
    "        \n",
    "The same `ls` should give you an empty output.\n",
    "\n",
    "## Create aliases\n",
    "\n",
    "In your .bashrc (cshrc, or anything that you load while opening your terminal), added the following lines to mount/unmout the disks:\n",
    "\n",
    "        alias msps=\"sshfs yourname@ccage.in2p3.fr:/sps ~/sps\" \n",
    "        alias usps=\"fusermount -u ~/sps\""
   ]
  }
 ],
 "metadata": {
  "kernelspec": {
   "display_name": "Python 2",
   "language": "python",
   "name": "python2"
  },
  "language_info": {
   "codemirror_mode": {
    "name": "ipython",
    "version": 2
   },
   "file_extension": ".py",
   "mimetype": "text/x-python",
   "name": "python",
   "nbconvert_exporter": "python",
   "pygments_lexer": "ipython2",
   "version": "2.7.11"
  }
 },
 "nbformat": 4,
 "nbformat_minor": 0
}
