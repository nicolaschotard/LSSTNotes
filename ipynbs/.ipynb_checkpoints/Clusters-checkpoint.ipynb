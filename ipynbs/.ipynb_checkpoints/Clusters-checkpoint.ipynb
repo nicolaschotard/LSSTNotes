{
 "cells": [
  {
   "cell_type": "markdown",
   "metadata": {},
   "source": [
    "# Clusters\n",
    "\n",
    "## Generality\n",
    "\n",
    "## Cluster analisys in LSST\n",
    "\n",
    "### Get a cluster data\n",
    "\n",
    "* Go online to \n",
    "\n",
    "        http://www2.cadc-ccda.hia-iha.nrc-cnrc.gc.ca/en/search/?collection=CFHT&noexec=true#queryFormTab\n",
    "        \n",
    "* Select your target in `Spatial Constraints -> Target`, and then, select below using the following criteria:\n",
    "\n",
    "        Optical -> CFHT -> MegaPrime -> All -> Calibrated -> Image -> Object\n",
    "        \n",
    "* Click on the `Search`  buttn. Make sure all exposure have an integration time of at least 200s (`Int Time` -> `>200`), and the calibration is 2 (`Cal. Lev`). `Mark` them all using the button at the top of the list, and click on `Download`. \n",
    "\n",
    "* Click on `URLS list in a file`, download the list\n",
    "\n",
    "* Go to your terminal, and launch `wget --content-disposition -i FILE_NAME ` (see the webpage for details)."
   ]
  }
 ],
 "metadata": {
  "kernelspec": {
   "display_name": "Python 2",
   "language": "python",
   "name": "python2"
  },
  "language_info": {
   "codemirror_mode": {
    "name": "ipython",
    "version": 2
   },
   "file_extension": ".py",
   "mimetype": "text/x-python",
   "name": "python",
   "nbconvert_exporter": "python",
   "pygments_lexer": "ipython2",
   "version": "2.7.11"
  }
 },
 "nbformat": 4,
 "nbformat_minor": 0
}
