{
 "cells": [
  {
   "cell_type": "markdown",
   "metadata": {},
   "source": [
    "# Quality Flag System\n",
    "\n",
    "## Motivation and concept\n",
    "\n",
    "The data-quality flag system has been added to the production codes in version SNF-02-03. In the previous versions, the \"QualityS\" string was used to store one message per process. The goal of this new system is to flag a process using multiple warnings or errors, while allowing inheritance from parents to children, and finally be able to use simple queries to find them in the DB.\n",
    "\n",
    "A given process if flagged as good or bad if its \"Quality\" key (int) is respectiveley set to 1 or 2. Its \"QualityS\" key is a string containing up to 40 characters, each of them containing 8 bits. 320 bits could be thus available, each of them being a possibility to store a specific warning or error message, if correctly associated to an official and immutable list of flags. \n",
    "\n",
    "For a given (new) process with no current flag, the QualityS is initially an empty string (''). If ‘a’ and ‘c’ are activated flags from a list of existing flags (‘a’, ‘b’, ‘c’, etc), we thus have two activated bits of the first byte (character), of the form 101 (10100000). ‘a’ has index 0, ‘c’ has index 2 in this example. Indexes are fixed for a given flag, i.e, it will ALWAYS be 0 for ‘a’ in our example. The corresponding string is then saved in the DB as unicode. \n",
    "\n",
    "To distinguish the new flag system from already stored info, each new flag will starts with a \"\\$\" character. We thus loose one character, so 8 bits. In practice, null byte (00000000) cannot be stored into the DB in a string, so we force them all to have their first bit set to 1 (except for the first one, \"$\"). We thus loose 39 more bits. In total, we have access to 273 bits. Eeach of them could be a different warning/error/flag. If a process inherits a quality string from its parents, the QualityS info will be updated by adding new flags, keeping info from its parents.\n",
    "\n",
    "In the next sections is presented how warnings are stored into these bytes, and how to access, read, modify, save and query them in/from the DB."
   ]
  },
  {
   "cell_type": "markdown",
   "metadata": {},
   "source": [
    "## Official list of flags \n",
    "The current official list of flags is stored in the libRecord library. To get them all, simply use the following python command:"
   ]
  },
  {
   "cell_type": "code",
   "execution_count": 6,
   "metadata": {
    "collapsed": false
   },
   "outputs": [
    {
     "data": {
      "text/plain": [
       "[('ES_PRIOR_POSITION', 'ES position away from prior'),\n",
       " ('ES_PRIOR_SEEING', 'ES seeing away from prior'),\n",
       " ('ES_PRIOR_AIRMASS', 'ES airmass away from prior'),\n",
       " ('ES_PRIOR_PARANGLE', 'ES parangle away from prior'),\n",
       " ('ES_MIS-CENTERED', 'ES position mis-centered'),\n",
       " ('PFC_XNIGHT', 'PFC cross-night flux calibration'),\n",
       " ('PFC_RELFLX', 'PFC relative flux calibration'),\n",
       " ('ARTIFICIAL_ARC', 'Is or has a parent usin an artifical arc (004_901)')]"
      ]
     },
     "execution_count": 6,
     "metadata": {},
     "output_type": "execute_result"
    }
   ],
   "source": [
    "import libRecord as LR\n",
    "LR.FLAGS_INFO"
   ]
  },
  {
   "cell_type": "markdown",
   "metadata": {},
   "source": [
    "The presence of the following flags will always be true. None of them can be deleted, and only new flags can be added to this list. For now, this step is manual and has to be done with caution, making sure that none of them disapear, and that their order stay the same."
   ]
  },
  {
   "cell_type": "markdown",
   "metadata": {},
   "source": [
    "## Query the DB for a flag\n",
    "A function of `libRecord` called `query_flag_in_db` is used to query the DB for processes having one of the official flags. This function returns a list of processes filtered by their QualityS. "
   ]
  },
  {
   "cell_type": "code",
   "execution_count": 9,
   "metadata": {
    "collapsed": false
   },
   "outputs": [
    {
     "name": "stdout",
     "output_type": "stream",
     "text": [
      "1 processes with flag ES_PRIOR_POSITION found\n",
      "7887 processes with flag ES_PRIOR_SEEING found\n",
      "267 processes with flag ES_PRIOR_AIRMASS found\n",
      "1529 processes with flag ES_PRIOR_PARANGLE found\n",
      "1791 processes with flag ES_MIS-CENTERED found\n",
      "1615 processes with flag PFC_XNIGHT found\n",
      "57522 processes with flag PFC_RELFLX found\n",
      "11207 processes with flag ARTIFICIAL_ARC found\n"
     ]
    }
   ],
   "source": [
    "for f in LR.FLAGS:\n",
    "    print \"%i processes with flag %s found\" % (LR.query_flag_in_db(f).count(), f)"
   ]
  },
  {
   "cell_type": "markdown",
   "metadata": {},
   "source": [
    "What is usually returned by this function is a query set of the Process table. This query set can then be used as any other set. Let's take all the processes containing the flag \"ARTIFICIAL_ARC\" as an example."
   ]
  },
  {
   "cell_type": "code",
   "execution_count": 13,
   "metadata": {
    "collapsed": false
   },
   "outputs": [
    {
     "name": "stdout",
     "output_type": "stream",
     "text": [
      "11207 processes found with flag ARTIFICIAL_ARC\n",
      "355 host-subtracted (cubefit) and flux-caibrated spectra found with this flag\n"
     ]
    }
   ],
   "source": [
    "flag = 'ARTIFICIAL_ARC'\n",
    "procs = LR.query_flag_in_db(flag)\n",
    "print procs.count(), \"processes found with flag\", flag\n",
    "# now let's apply some filtering\n",
    "print procs.filter(Fclass=666, XFclass=800).count(), \"host-subtracted (cubefit) and flux-caibrated spectra found with this flag\""
   ]
  },
  {
   "cell_type": "markdown",
   "metadata": {},
   "source": [
    "You can also abtain the query used to get them, instead of the processes:"
   ]
  },
  {
   "cell_type": "code",
   "execution_count": 19,
   "metadata": {
    "collapsed": false
   },
   "outputs": [
    {
     "name": "stdout",
     "output_type": "stream",
     "text": [
      "355 processes found (as found above)\n"
     ]
    }
   ],
   "source": [
    "from SnfQuery import Q\n",
    "from processing.process.models import Process\n",
    "q = LR.query_flag_in_db(flag, queryonly=True)\n",
    "q &= Q(Fclass=666, XFclass=800)\n",
    "procs = Process.objects.filter(q)\n",
    "print procs.count(), \"processes found (as found above)\""
   ]
  },
  {
   "cell_type": "markdown",
   "metadata": {
    "collapsed": true
   },
   "source": [
    "## How does it work?"
   ]
  },
  {
   "cell_type": "markdown",
   "metadata": {},
   "source": [
    "### Create a flag instance and add new flags"
   ]
  },
  {
   "cell_type": "code",
   "execution_count": 3,
   "metadata": {
    "collapsed": false
   },
   "outputs": [
    {
     "name": "stdout",
     "output_type": "stream",
     "text": [
      "['A', 'B', 'C', 'D', 'E', 'F', 'G', 'H', 'I', 'J', 'K', 'L', 'M', 'N', 'O', 'P', 'Q', 'R', 'S', 'T', 'U', 'V', 'W', 'X', 'Y', 'Z', 'a', 'b', 'c', 'd', 'e', 'f', 'g', 'h', 'i', 'j', 'k', 'l', 'm', 'n', 'o', 'p', 'q', 'r', 's', 't', 'u', 'v', 'w', 'x', 'y', 'z']\n"
     ]
    }
   ],
   "source": [
    "# A list of flags used for test purpose\n",
    "print LR.TESTFLAGS"
   ]
  },
  {
   "cell_type": "code",
   "execution_count": 4,
   "metadata": {
    "collapsed": false
   },
   "outputs": [],
   "source": [
    "# Create a new flag instance using the test mode, i.e, the test flags\n",
    "f = LR.Flag(test=True)"
   ]
  },
  {
   "cell_type": "code",
   "execution_count": 5,
   "metadata": {
    "collapsed": false
   },
   "outputs": [
    {
     "name": "stdout",
     "output_type": "stream",
     "text": [
      "Flag 'test' not in the official list of flags\n"
     ]
    }
   ],
   "source": [
    "# First test, add new flags, that should be existing in the list of test flags (TESTFLGAS)\n",
    "f.set_flags('test')"
   ]
  },
  {
   "cell_type": "code",
   "execution_count": 6,
   "metadata": {
    "collapsed": false
   },
   "outputs": [
    {
     "name": "stdout",
     "output_type": "stream",
     "text": [
      "[]\n"
     ]
    }
   ],
   "source": [
    "# Check the list of existing flags of this instance\n",
    "f.list_flags()"
   ]
  },
  {
   "cell_type": "code",
   "execution_count": 7,
   "metadata": {
    "collapsed": false
   },
   "outputs": [
    {
     "name": "stdout",
     "output_type": "stream",
     "text": [
      "Setting flag 'A'\n",
      "Setting flag 'M'\n",
      "Setting flag 'R'\n",
      "Setting flag 'b'\n",
      "Setting flag 'v'\n",
      "Setting flag 'z'\n"
     ]
    }
   ],
   "source": [
    "# Add flags that actually exit\n",
    "f.set_flags(['A', 'M', 'R', 'b', 'v', 'z'])"
   ]
  },
  {
   "cell_type": "code",
   "execution_count": 8,
   "metadata": {
    "collapsed": false
   },
   "outputs": [
    {
     "name": "stdout",
     "output_type": "stream",
     "text": [
      "['A', 'M', 'R', 'b', 'v', 'z']\n"
     ]
    }
   ],
   "source": [
    "# Check the list of flag again\n",
    "f.list_flags()"
   ]
  },
  {
   "cell_type": "code",
   "execution_count": 9,
   "metadata": {
    "collapsed": false
   },
   "outputs": [
    {
     "name": "stdout",
     "output_type": "stream",
     "text": [
      "Unseting flag 'R'\n"
     ]
    }
   ],
   "source": [
    "# Unset an existing flag, also working for a list of flags ['A', 'B']\n",
    "f.unset_flags('R')"
   ]
  },
  {
   "cell_type": "code",
   "execution_count": 10,
   "metadata": {
    "collapsed": false
   },
   "outputs": [
    {
     "name": "stdout",
     "output_type": "stream",
     "text": [
      "Flag '28' not in the list of active flags\n"
     ]
    }
   ],
   "source": [
    "# Try to unset a non-existing flag\n",
    "f.unset_flags('28')"
   ]
  },
  {
   "cell_type": "code",
   "execution_count": 11,
   "metadata": {
    "collapsed": false
   },
   "outputs": [
    {
     "name": "stdout",
     "output_type": "stream",
     "text": [
      "['A', 'M', 'b', 'v', 'z']\n"
     ]
    }
   ],
   "source": [
    "f.list_flags()"
   ]
  },
  {
   "cell_type": "markdown",
   "metadata": {},
   "source": [
    "### Check the bytes and bits values"
   ]
  },
  {
   "cell_type": "code",
   "execution_count": 12,
   "metadata": {
    "collapsed": false
   },
   "outputs": [
    {
     "data": {
      "text/plain": [
       "u'$\\xc0\\x82\\x80\\x81\\x80\\x80\\x82\\x90'"
      ]
     },
     "execution_count": 12,
     "metadata": {},
     "output_type": "execute_result"
    }
   ],
   "source": [
    "# Check the bytes value which will be stored in the DB\n",
    "f.dbbytes"
   ]
  },
  {
   "cell_type": "code",
   "execution_count": 13,
   "metadata": {
    "collapsed": false
   },
   "outputs": [
    {
     "name": "stdout",
     "output_type": "stream",
     "text": [
      "110000001000001010000000100000011000000010000000100000101001\n"
     ]
    }
   ],
   "source": [
    "# Check the bits values, all bytes have their first bit set to 1 (from left to right), only 7 used to store info\n",
    "print f.bits"
   ]
  },
  {
   "cell_type": "code",
   "execution_count": 14,
   "metadata": {
    "collapsed": false
   },
   "outputs": [
    {
     "name": "stdout",
     "output_type": "stream",
     "text": [
      "7 bytes used\n"
     ]
    }
   ],
   "source": [
    "# Number of bytes currently used (up to 40 available, minus 1 since dbbytes always starts by \"$\"\n",
    "print \"%i bytes used\" % (len(f.bits) / 8)"
   ]
  },
  {
   "cell_type": "code",
   "execution_count": 15,
   "metadata": {
    "collapsed": false
   },
   "outputs": [
    {
     "name": "stdout",
     "output_type": "stream",
     "text": [
      "Unseting flag 'z'\n"
     ]
    }
   ],
   "source": [
    "# Remove the 'z' flag\n",
    "f.unset_flags('z')"
   ]
  },
  {
   "cell_type": "code",
   "execution_count": 16,
   "metadata": {
    "collapsed": false
   },
   "outputs": [
    {
     "data": {
      "text/plain": [
       "'1100000010000010100000001000000110000000100000001000001'"
      ]
     },
     "execution_count": 16,
     "metadata": {},
     "output_type": "execute_result"
    }
   ],
   "source": [
    "f.bits"
   ]
  },
  {
   "cell_type": "code",
   "execution_count": 17,
   "metadata": {
    "collapsed": false
   },
   "outputs": [
    {
     "data": {
      "text/plain": [
       "u'$\\xc0\\x82\\x80\\x81\\x80\\x80\\x82'"
      ]
     },
     "execution_count": 17,
     "metadata": {},
     "output_type": "execute_result"
    }
   ],
   "source": [
    "f.dbbytes"
   ]
  },
  {
   "cell_type": "code",
   "execution_count": 18,
   "metadata": {
    "collapsed": false
   },
   "outputs": [
    {
     "name": "stdout",
     "output_type": "stream",
     "text": [
      "6 bytes used\n"
     ]
    }
   ],
   "source": [
    "print \"%i bytes used\" % (len(f.bits) / 8)"
   ]
  },
  {
   "cell_type": "code",
   "execution_count": 19,
   "metadata": {
    "collapsed": false
   },
   "outputs": [
    {
     "data": {
      "text/plain": [
       "True"
      ]
     },
     "execution_count": 19,
     "metadata": {},
     "output_type": "execute_result"
    }
   ],
   "source": [
    "# check if a given flag is set\n",
    "f.is_set('M')"
   ]
  },
  {
   "cell_type": "code",
   "execution_count": 20,
   "metadata": {
    "collapsed": false
   },
   "outputs": [
    {
     "data": {
      "text/plain": [
       "False"
      ]
     },
     "execution_count": 20,
     "metadata": {},
     "output_type": "execute_result"
    }
   ],
   "source": [
    "f.is_set('T')"
   ]
  },
  {
   "cell_type": "code",
   "execution_count": 21,
   "metadata": {
    "collapsed": false
   },
   "outputs": [
    {
     "data": {
      "text/plain": [
       "['A', 'M', 'b', 'v']"
      ]
     },
     "execution_count": 21,
     "metadata": {},
     "output_type": "execute_result"
    }
   ],
   "source": [
    "f.active_flags"
   ]
  },
  {
   "cell_type": "code",
   "execution_count": 22,
   "metadata": {
    "collapsed": false
   },
   "outputs": [
    {
     "name": "stdout",
     "output_type": "stream",
     "text": [
      "Initial flag info:\n",
      "  Init Int value: 0\n",
      "Current flag info\n",
      "  Int: 18296979457130755\n",
      "  Bits value: 1100000010000010100000001000000110000000100000001000001\n",
      "  Active flags:\n",
      "   - 'A'\n",
      "   - 'M'\n",
      "   - 'b'\n",
      "   - 'v'\n",
      "\n"
     ]
    }
   ],
   "source": [
    "# print the current status of a flag instance\n",
    "print f"
   ]
  },
  {
   "cell_type": "markdown",
   "metadata": {},
   "source": [
    "### Query a flag"
   ]
  },
  {
   "cell_type": "code",
   "execution_count": 23,
   "metadata": {
    "collapsed": false
   },
   "outputs": [
    {
     "data": {
      "text/plain": [
       "u'$\\xc0\\x82\\x80\\x81\\x80\\x80\\x82'"
      ]
     },
     "execution_count": 23,
     "metadata": {},
     "output_type": "execute_result"
    }
   ],
   "source": [
    "# let's say that a process has the QualityS value created above\n",
    "QualityS = f.dbbytes\n",
    "QualityS"
   ]
  },
  {
   "cell_type": "code",
   "execution_count": 24,
   "metadata": {
    "collapsed": false
   },
   "outputs": [
    {
     "data": {
      "text/plain": [
       "True"
      ]
     },
     "execution_count": 24,
     "metadata": {},
     "output_type": "execute_result"
    }
   ],
   "source": [
    "# Now let's make a simple query (regex) to check for the presence of a given flag\n",
    "LR.query_flag(QualityS, 'A', test=True)"
   ]
  },
  {
   "cell_type": "code",
   "execution_count": 25,
   "metadata": {
    "collapsed": false
   },
   "outputs": [
    {
     "data": {
      "text/plain": [
       "False"
      ]
     },
     "execution_count": 25,
     "metadata": {},
     "output_type": "execute_result"
    }
   ],
   "source": [
    "LR.query_flag(QualityS, 'R', test=True)"
   ]
  },
  {
   "cell_type": "code",
   "execution_count": 26,
   "metadata": {
    "collapsed": false
   },
   "outputs": [
    {
     "data": {
      "text/plain": [
       "[526906600126808060013003]"
      ]
     },
     "execution_count": 26,
     "metadata": {},
     "output_type": "execute_result"
    }
   ],
   "source": [
    "LR.query_flag_in_db('A', test=True)"
   ]
  },
  {
   "cell_type": "code",
   "execution_count": 27,
   "metadata": {
    "collapsed": false
   },
   "outputs": [
    {
     "data": {
      "text/plain": [
       "[]"
      ]
     },
     "execution_count": 27,
     "metadata": {},
     "output_type": "execute_result"
    }
   ],
   "source": [
    "LR.query_flag_in_db('B', test=True)"
   ]
  },
  {
   "cell_type": "code",
   "execution_count": 28,
   "metadata": {
    "collapsed": false
   },
   "outputs": [
    {
     "data": {
      "text/plain": [
       "u'$\\xcd\\xa3\\x88\\x84\\x80\\x88\\x80\\xc0'"
      ]
     },
     "execution_count": 28,
     "metadata": {},
     "output_type": "execute_result"
    }
   ],
   "source": [
    "p = LR.query_flag_in_db('A', test=True)[0]\n",
    "p.QualityS"
   ]
  },
  {
   "cell_type": "markdown",
   "metadata": {},
   "source": [
    "A Flag instance can also be created from a QualityS value obtained from the DB, and modified as shown previoulsy before being saved into the DB. This mode will be used to transfer info from a parent process to a child one, whereas the previous example will be used when new process have no parent already flagged.\n"
   ]
  },
  {
   "cell_type": "code",
   "execution_count": 29,
   "metadata": {
    "collapsed": false
   },
   "outputs": [
    {
     "name": "stdout",
     "output_type": "stream",
     "text": [
      "['A', 'D', 'E', 'G', 'I', 'M', 'N', 'R', 'Z', 'm', 'x']\n"
     ]
    }
   ],
   "source": [
    "fp = LR.Flag(p.QualityS, test=True)\n",
    "fp.list_flags()"
   ]
  },
  {
   "cell_type": "code",
   "execution_count": 30,
   "metadata": {
    "collapsed": false
   },
   "outputs": [
    {
     "name": "stdout",
     "output_type": "stream",
     "text": [
      "Initial flag info:\n",
      "  Init Int value: 216472953637946803\n",
      "Current flag info\n",
      "  Int: 216472953637946803\n",
      "  Bits value: 1100110110100011100010001000010010000000100010001000000011000000\n",
      "  Active flags:\n",
      "   - 'A'\n",
      "   - 'D'\n",
      "   - 'E'\n",
      "   - 'G'\n",
      "   - 'I'\n",
      "   - 'M'\n",
      "   - 'N'\n",
      "   - 'R'\n",
      "   - 'Z'\n",
      "   - 'm'\n",
      "   - 'x'\n",
      "\n"
     ]
    }
   ],
   "source": [
    "print fp"
   ]
  },
  {
   "cell_type": "code",
   "execution_count": 31,
   "metadata": {
    "collapsed": false
   },
   "outputs": [
    {
     "name": "stdout",
     "output_type": "stream",
     "text": [
      "Setting flag 'B'\n"
     ]
    },
    {
     "data": {
      "text/plain": [
       "['A', 'B', 'D', 'E', 'G', 'I', 'M', 'N', 'R', 'Z', 'm', 'x']"
      ]
     },
     "execution_count": 31,
     "metadata": {},
     "output_type": "execute_result"
    }
   ],
   "source": [
    "fp.set_flags('B')\n",
    "fp.active_flags"
   ]
  },
  {
   "cell_type": "code",
   "execution_count": 32,
   "metadata": {
    "collapsed": false
   },
   "outputs": [
    {
     "name": "stdout",
     "output_type": "stream",
     "text": [
      "Unseting flag 'D'\n"
     ]
    },
    {
     "data": {
      "text/plain": [
       "['A', 'B', 'E', 'G', 'I', 'M', 'N', 'R', 'Z', 'm', 'x']"
      ]
     },
     "execution_count": 32,
     "metadata": {},
     "output_type": "execute_result"
    }
   ],
   "source": [
    "fp.unset_flags('D')\n",
    "fp.active_flags"
   ]
  },
  {
   "cell_type": "markdown",
   "metadata": {},
   "source": [
    "What we will acutally save into the DB is the dbbytes value, starting with a '$' and having all the firts bits of all bytes set to 1."
   ]
  },
  {
   "cell_type": "code",
   "execution_count": 33,
   "metadata": {
    "collapsed": false
   },
   "outputs": [
    {
     "data": {
      "text/plain": [
       "u'$\\xe5\\xa3\\x88\\x84\\x80\\x88\\x80\\xc0'"
      ]
     },
     "execution_count": 33,
     "metadata": {},
     "output_type": "execute_result"
    }
   ],
   "source": [
    "fp.dbbytes"
   ]
  },
  {
   "cell_type": "code",
   "execution_count": 34,
   "metadata": {
    "collapsed": false
   },
   "outputs": [
    {
     "data": {
      "text/plain": [
       "['11100101',\n",
       " '10100011',\n",
       " '10001000',\n",
       " '10000100',\n",
       " '10000000',\n",
       " '10001000',\n",
       " '10000000',\n",
       " '11']"
      ]
     },
     "execution_count": 34,
     "metadata": {},
     "output_type": "execute_result"
    }
   ],
   "source": [
    "[fp.bits[i*8:(i+1)*8] for i in range(len(fp.bits)/8+bool(len(fp.bits)%8))]"
   ]
  }
 ],
 "metadata": {
  "kernelspec": {
   "display_name": "Python 2",
   "language": "python",
   "name": "python2"
  },
  "language_info": {
   "codemirror_mode": {
    "name": "ipython",
    "version": 2
   },
   "file_extension": ".py",
   "mimetype": "text/x-python",
   "name": "python",
   "nbconvert_exporter": "python",
   "pygments_lexer": "ipython2",
   "version": "2.7.10"
  }
 },
 "nbformat": 4,
 "nbformat_minor": 0
}
