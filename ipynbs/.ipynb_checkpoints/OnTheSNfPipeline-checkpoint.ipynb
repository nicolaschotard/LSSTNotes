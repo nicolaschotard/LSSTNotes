{
 "cells": [
  {
   "cell_type": "markdown",
   "metadata": {},
   "source": [
    "# Pipeline limitations\n",
    "Things that make it more complex than running a dozen commands in sequence.\n",
    "\n",
    "## What needs to be checked\n",
    "\n",
    "### Manual checks\n",
    "\n",
    "## Failure modes\n",
    "\n",
    "## Assumptions or restrictions\n",
    "\n",
    "## Computing resources and limitations\n",
    "\n",
    "* http://cctools.in2p3.fr/mrtguser/info_manips_detail.php?group=snovae\n",
    "\n",
    "* https://ccspsmon.in2p3.fr/\n",
    "* https://ccspsmon.in2p3.fr/users/snovae.html\n",
    "* https://ccspsmon.in2p3.fr/dush/snovae.html\n",
    "* https://ccspsmon.in2p3.fr/fi/?s=snovae&t=yearly&m=all\n",
    "\n",
    "* [2014 CC repport](figures/rapport_snovae.pdf)\n",
    "* Monthly repport ([2014-9](figures/RapportMensuel_snovae_2014-9.pdf))\n",
    "\n",
    "### Disk space\n",
    "\n",
    "### Computing resources\n",
    "\n",
    "## Most fragile parts of the pipeline\n",
    "\n",
    "## Dependencies\n",
    "\n",
    "### Non-standard dependancies\n",
    "\n",
    "### Standard dependancies\n",
    "\n",
    "## Documentation updates\n",
    "* [NewDataProcessing](https://snf-doc.lbl.gov/twiki/bin/view/Tasks/NewDataProcessing#I_Flux_calibration)\n",
    "* [SnifsPipelineHowTo](https://snf-doc.lbl.gov/twiki/bin/view/Offline/SnifsPipelineHowTo)\n",
    "* [DataAccess](https://snf-doc.lbl.gov/twiki/bin/view/Offline/DataAccess)\n",
    "* [ProductionCodeInstall](https://snf-doc.lbl.gov/twiki/bin/view/Offline/ProductionCodeInstall)\n",
    "* [SnifsPipelineUserGuide](https://snf-doc.lbl.gov/twiki/bin/view/Top/SnifsPipelineUserGuide)\n",
    "* [Snf process pdf](https://snf-doc.lbl.gov/twiki/pub/Offline/DataAccessOverview/snf_process.pdf)\n",
    "We should discuss what updates are needed to these - or new, more consolidated - instructions"
   ]
  }
 ],
 "metadata": {
  "kernelspec": {
   "display_name": "Python 2",
   "language": "python",
   "name": "python2"
  },
  "language_info": {
   "codemirror_mode": {
    "name": "ipython",
    "version": 2
   },
   "file_extension": ".py",
   "mimetype": "text/x-python",
   "name": "python",
   "nbconvert_exporter": "python",
   "pygments_lexer": "ipython2",
   "version": "2.7.10"
  }
 },
 "nbformat": 4,
 "nbformat_minor": 0
}
