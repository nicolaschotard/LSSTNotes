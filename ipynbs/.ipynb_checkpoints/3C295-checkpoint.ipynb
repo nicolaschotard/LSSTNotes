{
 "cells": [
  {
   "cell_type": "markdown",
   "metadata": {},
   "source": [
    "# 3C295\n"
   ]
  },
  {
   "cell_type": "markdown",
   "metadata": {},
   "source": [
    "## Get the data\n",
    "\n",
    "* Go online to \n",
    "\n",
    "        http://www2.cadc-ccda.hia-iha.nrc-cnrc.gc.ca/en/search/?collection=CFHT&noexec=true#queryFormTab\n",
    "        \n",
    "* Select your target in `Spatial Constraints -> Target` (put 3C295), and then, select below using the following criteria:\n",
    "\n",
    "        Optical -> CFHT -> MegaPrime -> All -> Calibrated -> Image -> Object\n",
    "        \n",
    "* Click on the `Search`  buttn. Make sure all exposure have an integration time of at least 200s (`Int Time` -> `>200`), and the calibration is 2 (`Cal. Lev`). `Mark` them all using the button at the top of the list, and click on `Download`. \n",
    "\n",
    "* Click on `URLS list in a file`, download the list\n",
    "\n",
    "* Go to your terminal, and launch `wget --content-disposition -i FILE_NAME ` (see the webpage for details) in the directory you want to get the file you just downloaded.\n",
    "\n",
    "        cd WORKDIR/3C295\n",
    "        mkdir CalibratedData\n",
    "        cd CalibratedData\n",
    "        mv ~/Download/cadcUrlList.txt .\n",
    "        wget --content-disposition -i cadcUrlList.txt"
   ]
  },
  {
   "cell_type": "markdown",
   "metadata": {},
   "source": [
    "* Depending on your connection, this could take a little wile (300-400MB / file, ~100 files)\n",
    "\n",
    "## Re-organize the data\n",
    "\n",
    "We first need to re-organize the data to get a directory with a structure compatible with the LSST stack.\n",
    "\n",
    "        setup pipe_task\n",
    "        setup obs_cfht -t chotard\n",
    "        ingestImages.py input CalibratedData/*.fz --mode link\n",
    "        \n",
    "The --mode link will create links instead of copying file\n",
    "\n",
    "## Get the astrometry\n",
    "\n",
    "A script available at CC-IN2P3 will help you get the needed astrometry files using as input the list of calibrated data downloaded in the first step (cadcUrlList.txt). It is for now stored under \n",
    "\n",
    "        /sps/lsst/dev/nchotard/scripts/get_astrometry.py\n",
    "        \n",
    "but will soon ne uploaded on github. Here is in some details what the script does.\n",
    "\n",
    "The coordinate of the cluster are (RA, DEC) = (212.8355, 52.20277) in degree. They also come from CADC. At the moment the most complete catalog available is based on SDSS DR9 and is available at IN2P3 in: \n",
    "\n",
    "        /sps/lsst/data/astrometry_net_data/sdss-dr9 (1440 files)\n",
    "\n",
    "To get the specific files that you need for the cluster analysis, you will use\n",
    "\n",
    "        get-healpix -N8 212.8355 -- 52.20277  # \"--\" is optional in this case but mandatory for a negative declination value\n",
    "        \n",
    "Which will return\n",
    "\n",
    "        (RA, DEC) = (212.835, 52.2028) degrees\n",
    "        Healpix=157 in the XY scheme (bighp=2, x=3, y=5)\n",
    "          healpix=100 in the RING scheme (ringnum=7, longind=16)\n",
    "          healpix=167 in the NESTED scheme.\n",
    "        Healpix center is (212.14286, 48.141208) degrees\n",
    "        Healpix is bounded by RA=[205.714, 218.571], Dec=[41.8103, 54.3409] degrees.\n",
    "        Healpix scale is 26384.5 arcsec.\n",
    "\n",
    "This output give you the file number that you need to get (Healpix=157). Since each "
   ]
  },
  {
   "cell_type": "code",
   "execution_count": null,
   "metadata": {
    "collapsed": true
   },
   "outputs": [],
   "source": []
  }
 ],
 "metadata": {
  "kernelspec": {
   "display_name": "Python 2",
   "language": "python",
   "name": "python2"
  },
  "language_info": {
   "codemirror_mode": {
    "name": "ipython",
    "version": 2
   },
   "file_extension": ".py",
   "mimetype": "text/x-python",
   "name": "python",
   "nbconvert_exporter": "python",
   "pygments_lexer": "ipython2",
   "version": "2.7.11"
  }
 },
 "nbformat": 4,
 "nbformat_minor": 0
}
