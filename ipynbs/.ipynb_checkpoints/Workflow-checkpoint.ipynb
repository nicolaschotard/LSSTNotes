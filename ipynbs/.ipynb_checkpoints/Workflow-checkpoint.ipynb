{
 "cells": [
  {
   "cell_type": "markdown",
   "metadata": {},
   "source": [
    "# General analysis workflow\n",
    "\n",
    "This page gives an overview of the command/scripts that must be run to go from calibrated CFHT data to the cluster photometry estimate.\n",
    "\n",
    "* Get the calibrated images from CADT: `wget` \n",
    "* Reorganize the data: `ingestImages.py`\n",
    "* Get the needed astrometry data: `get_astromerty.py`\n",
    "* processCcd.py\n",
    "* Coadition"
   ]
  }
 ],
 "metadata": {
  "kernelspec": {
   "display_name": "Python 2",
   "language": "python",
   "name": "python2"
  },
  "language_info": {
   "codemirror_mode": {
    "name": "ipython",
    "version": 2
   },
   "file_extension": ".py",
   "mimetype": "text/x-python",
   "name": "python",
   "nbconvert_exporter": "python",
   "pygments_lexer": "ipython2",
   "version": "2.7.11"
  }
 },
 "nbformat": 4,
 "nbformat_minor": 0
}
