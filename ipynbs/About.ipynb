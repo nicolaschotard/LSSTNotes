{
 "cells": [
  {
   "cell_type": "markdown",
   "metadata": {},
   "source": [
    "# About\n",
    "\n",
    "* This webpage is for now hosted on my computer !\n",
    "        \n",
    "        \n",
    "* If you want to make modifications, apply corrections, or improve this page, you can either work on one of the already existing `Jupiter` notebook (you of course need it to be [installed](http://jupyter.org/)), which are stored under `ipynbs`, or create a new one. Do not forget to add the notebook into the `toctree` of the `doc/source/index.rst` file.\n",
    "\n",
    "* When you are done with your modifications, build the html web page in the tree directory\n",
    "\n",
    "        ./build_doc.sh\n",
    "\n",
    "* It will automatically convert all the notebooks into `rst` files and copy all the new figures that you could have added in the `ipynbs/figures/` directory to the right place. \n",
    "\n",
    "\n",
    "* Open the index.html in your browser, or reload, and make sure that everyting is the way it should be."
   ]
  }
 ],
 "metadata": {
  "kernelspec": {
   "display_name": "Python 2",
   "language": "python",
   "name": "python2"
  },
  "language_info": {
   "codemirror_mode": {
    "name": "ipython",
    "version": 2
   },
   "file_extension": ".py",
   "mimetype": "text/x-python",
   "name": "python",
   "nbconvert_exporter": "python",
   "pygments_lexer": "ipython2",
   "version": "2.7.11"
  }
 },
 "nbformat": 4,
 "nbformat_minor": 0
}
